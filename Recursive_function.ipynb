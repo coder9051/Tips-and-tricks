    {
      "cell_type": "markdown",
      "source": [
        "                                  **NOTE ON RECURSION**\n",
        "Recursive function:\n",
        "\n",
        "A recursive function calls itself. This mean that a new function is called from within the original function.\n",
        "\n",
        "\n",
        "For example look at the code below and assume a linked list counting from 0 to n by 1.\n"
      ],
      "metadata": {
        "id": "b6Q_RILdTh_v"
      }
    },
    {
      "cell_type": "code",
      "source": [
        "def print_list(head):\n",
        "    if head is not None:\n",
        "        print(head.data)\n",
        "        print_list(head.next)"
      ],
      "metadata": {
        "id": "k9CYsraPUWmn"
      },
      "execution_count": null,
      "outputs": []
    },
    {
      "cell_type": "markdown",
      "source": [
        "The first function looks at the head of the list and prints it. It then creates a new function to print the next element. However,\n",
        "first function hasn't ended yet. It can't end until all the functions within it end. This is key to understanding.\n",
        "\n",
        "If we look at the call stack (the list of running functions) it looks like this:"
      ],
      "metadata": {
        "id": "ogRmJFUOUg0Q"
      }
    },
    {
      "cell_type": "code",
      "source": [
        "print_list() # the original outer most function, waiting for internal functions to end.\n",
        "    print_list() # the new function called within the original func."
      ],
      "metadata": {
        "id": "eFoPtNS2Umkl"
      },
      "execution_count": null,
      "outputs": []
    },
    {
      "cell_type": "markdown",
      "source": [
        "This just keeps on going. The new function calls another function. Now our stack looks like this:"
      ],
      "metadata": {
        "id": "uqeJ2HR4UsYG"
      }
    },
    {
      "cell_type": "code",
      "source": [
        "print_list() # the original function\n",
        "    print_list() # level 1 function.\n",
        "    \tprint_list() # level 2 function."
      ],
      "metadata": {
        "id": "UVJkNiz7Uw1h"
      },
      "execution_count": null,
      "outputs": []
    },
    {
      "cell_type": "markdown",
      "source": [
        "The call stack keeps getting bigger and bigger because none of the outer functions can terminate because they are waiting on inner\n",
        "functions."
      ],
      "metadata": {
        "id": "Cbn1bcI-U6Tw"
      }
    },
    {
      "cell_type": "code",
      "source": [
        "print_list() # the original function\n",
        "    print_list() # level 1 function.\n",
        "    \tprint_list() # level 2 function.\n",
        "            ...\n",
        "                ...\n",
        "                    ...\n",
        "                        print_list() # level 1000 - Recursion depth hit. Program ends and error displayed."
      ],
      "metadata": {
        "id": "9Na1zr-sU-uE"
      },
      "execution_count": null,
      "outputs": []
    },
    {
      "cell_type": "markdown",
      "source": [
        "The call stack keeps getting bigger and bigger because none of the outer functions can terminate because they are waiting on inner\n",
        "functions.\n",
        "\n",
        "Recursion depth is a count of how many layers are active inside your recursive function. The default recursion depth limit for \n",
        "Python 3 is 1000. The limit exists to prevent a stack overflow caused by too much (possibly infinite) recursion.\n",
        "\n",
        "Recursion is a cool tool and you should use it (or at least understand it). However, some languages have optimized tail call \n",
        "recursion (what is the kind of recursion being shown above) and avoid this problem by ending the outer function when the inner one is called. Python has not.\n",
        "\n",
        "If you are writing a function that may hit the recursion limit it may be better to approach it iteratively (at least in Python)."
      ],
      "metadata": {
        "id": "Y6dxnLcSWCBm"
      }
    }
  ]
}
