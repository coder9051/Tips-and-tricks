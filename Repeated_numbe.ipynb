{
  "nbformat": 4,
  "nbformat_minor": 0,
  "metadata": {
    "colab": {
      "name": "Repeated_numbe.ipynb",
      "provenance": [],
      "authorship_tag": "ABX9TyMtiz8FD5r8aAXd9b7+L1OH",
      "include_colab_link": true
    },
    "kernelspec": {
      "name": "python3",
      "display_name": "Python 3"
    },
    "language_info": {
      "name": "python"
    }
  },
  "cells": [
    {
      "cell_type": "markdown",
      "metadata": {
        "id": "view-in-github",
        "colab_type": "text"
      },
      "source": [
        "<a href=\"https://colab.research.google.com/github/coder9051/Tips-and-tricks/blob/main/Repeated_numbe.ipynb\" target=\"_parent\"><img src=\"https://colab.research.google.com/assets/colab-badge.svg\" alt=\"Open In Colab\"/></a>"
      ]
    },
    {
      "cell_type": "markdown",
      "source": [
        "                    **Duplicate element in a limited range array**\n",
        "Q. Given a limited range array of size n cotaining elements between 1 and n-1 with one element repeating, find the duplicate number\n",
        "in it without using any extra space\n",
        "\n",
        "We are given an array arr[] of size n. Numbers are from 1 to (n-1) in random order. The array has only one repetitive element. We need to find the repetitive element.\n",
        "\n",
        "SOLUTION 1: We know sum of first n-1 natural numbers is (n – 1)*n/2. We compute sum of array elements and subtract natural number sum from it to find the only missing element.\n",
        "\n",
        "Time complexity : O(n)\n",
        "\n",
        "Auxillary space : O(1)"
      ],
      "metadata": {
        "id": "LL3OuRpFM_wU"
      }
    },
    {
      "cell_type": "code",
      "source": [
        "arr = [1, 4, 2, 3, 4, 5]\n",
        "n = len(arr) - 1 #It is also equal to max of list.\n",
        "sumArr = sum(arr)\n",
        "originalSum = (n*(n+1))//2\n",
        "repeatingElement = sumArr - originalSum\n",
        "print(repeatingElement)"
      ],
      "metadata": {
        "id": "hhNak0U8O3YM"
      },
      "execution_count": null,
      "outputs": []
    },
    {
      "cell_type": "markdown",
      "source": [
        "SOLUTION 2: Use a hash table to store elements visited. If a seen element appears again, we return it.\n",
        "\n",
        "Time complexity : O(n)\n",
        "\n",
        "Auxillary space : O(n)"
      ],
      "metadata": {
        "id": "dGiknCgUO6eW"
      }
    },
    {
      "cell_type": "code",
      "source": [
        "def findRepeating(arr, n):\n",
        "    s = set()\n",
        "    for i in range(n):\n",
        "        if arr[i] in s:\n",
        "            return arr[i]\n",
        "        s.add(arr[i])\n",
        "     \n",
        "    # If input is correct, we should\n",
        "    # never reach here\n",
        "    return -1\n",
        " \n",
        "arr = [9, 8, 2, 6, 1, 8, 5, 3]\n",
        "n = len(arr)\n",
        "print(findRepeating(arr, n))"
      ],
      "metadata": {
        "id": "JNz0F1NcQDxv"
      },
      "execution_count": null,
      "outputs": []
    },
    {
      "cell_type": "markdown",
      "source": [
        "SOLUTION 3: The idea is based on the fact that x ^ x = 0 and x ^ y = y ^ x.\n",
        "Compute XOR of elements from 1 to n-1.\n",
        "Compute XOR of array elements.\n",
        "XOR of above two would be our result.\n",
        "\n",
        "*   Compute XOR of elements from 1 to n-1.\n",
        "*   Compute XOR of array elements.\n",
        "*   XOR of above two would be our result.\n",
        "\n",
        "Time complexity : O(n)\n",
        "\n",
        "Auxillari space : O(1)"
      ],
      "metadata": {
        "id": "LsNntaA_QSqT"
      }
    },
    {
      "cell_type": "code",
      "source": [
        "def findRepeating(arr, n):\n",
        "     \n",
        "    res = 0\n",
        "    for i in range(0, n-1):\n",
        "        res = res ^ (i+1) ^ arr[i]\n",
        "    res = res ^ arr[n-1]\n",
        "         \n",
        "    return res\n",
        "\n",
        "arr = [9, 8, 2, 6, 1, 8, 5, 3, 4, 7]\n",
        "n = len(arr)\n",
        "print(findRepeating(arr, n))"
      ],
      "metadata": {
        "id": "Eapxz1V7RF6G"
      },
      "execution_count": null,
      "outputs": []
    },
    {
      "cell_type": "markdown",
      "source": [
        "SOLUTION 4: We can solve this problem in constant space. Since the array contains all distinct elements except one and all elements lie in range 1 to n-1, we can check for a duplicate element by marking array elements as negative using the array index as a key. For each array element nums[i], invert the sign of the element present at index nums[i]. Finally, traverse the array once again, and if a positive number is found at index i, then the duplicate element is i.\n",
        "\n",
        "The above approach takes two traversals of the array. We can achieve the same in only a single traversal. For each array element nums[i], invert the sign of the element present at index nums[i] if it is positive; otherwise, if the element is already negative, then it is a duplicate.\n",
        "\n",
        "Time complexity : O(n)\n",
        "\n",
        "Auxillary space : O(0)"
      ],
      "metadata": {
        "id": "-eHqCGNsRTEW"
      }
    },
    {
      "cell_type": "code",
      "source": [
        "ef repeatingElement(arr):\n",
        "  for i in range(len(arr)):\n",
        "   # to get the value of the current element \n",
        "    if arr[i] < 0:\n",
        "      val = -arr[i]\n",
        "\n",
        "   # make element at index `val` negative if it is positive\n",
        "    else:\n",
        "      val = arr[i]\n",
        "\n",
        "   # if the element is already negative, it is repeated\n",
        "    if arr[val] > 0:\n",
        "      arr[val] = - arr[val]\n",
        "    else:\n",
        "      repeatedElement = val\n",
        "      break\n",
        "\n",
        "  # restore the original list before returning \n",
        "  for i in range(len(arr)):\n",
        "    if arr[i] < 0:\n",
        "      arr[i] = -arr[i]\n",
        "\n",
        "  return repeatedElement\n",
        "\n",
        "nums = [1, 2, 3, 4, 2]\n",
        "print(repeatingElement(nums))  \n",
        "      "
      ],
      "metadata": {
        "id": "z7-KuriWSwyy"
      },
      "execution_count": null,
      "outputs": []
    }
  ]
}