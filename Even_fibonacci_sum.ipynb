{
  "nbformat": 4,
  "nbformat_minor": 0,
  "metadata": {
    "colab": {
      "name": "Even_fibonacci_sum.ipynb",
      "provenance": [],
      "collapsed_sections": [],
      "toc_visible": true,
      "authorship_tag": "ABX9TyNddPRbBfEkx+z64+u9pGeu",
      "include_colab_link": true
    },
    "kernelspec": {
      "name": "python3",
      "display_name": "Python 3"
    },
    "language_info": {
      "name": "python"
    }
  },
  "cells": [
    {
      "cell_type": "markdown",
      "metadata": {
        "id": "view-in-github",
        "colab_type": "text"
      },
      "source": [
        "<a href=\"https://colab.research.google.com/github/coder9051/Tips-and-tricks/blob/main/Even_fibonacci_sum.ipynb\" target=\"_parent\"><img src=\"https://colab.research.google.com/assets/colab-badge.svg\" alt=\"Open In Colab\"/></a>"
      ]
    },
    {
      "cell_type": "markdown",
      "source": [
        "\n",
        "\n",
        ">                                       **Even Fibonacci Sum**\n",
        "\n",
        "The Fibonacci sequence was first found by an Italian named Leonardo Pisano Bogollo (Fibonacci). Fibonacci numbers are a sequence of whole numbers: 0, 1, 1, 2, 3, 5, 8, 13, 21, 34, ... This infinite sequence is called the Fibonacci sequence. Here each term is the sum of the two preceding ones, starting from 0 and 1. This has been termed \"nature's secret code\".\n",
        "\n",
        "Every third term of this series is even.... and the series of even terms goes like 0,2,8,34,... so any even term E(n)can be expressed as E(n)= 4*E(n-1) + E(n-2).... i.e. if you check the series 0, 1, 2, 3, 5, 8 which is the fibinoacci series every third term is even and the next even term sequence can be caluclated using 4 * (8) + 2 which is 4*(n-3) + (n- 6).\n",
        "\n",
        "\n",
        "SOLUTION 1:\n",
        "Using Simple approach of adding even number. But this would not work for time restricted and space restricted question."
      ],
      "metadata": {
        "id": "2SqBQMfnRPu_"
      }
    },
    {
      "cell_type": "code",
      "source": [
        "a,b = 0,1\n",
        "    s = set()\n",
        "    while a+b<n:\n",
        "        a,b = b, a+b\n",
        "        if b%2==0:\n",
        "            s.add(b)\n",
        "    print(sum(s))"
      ],
      "metadata": {
        "id": "E3gK4d8TXsfG"
      },
      "execution_count": null,
      "outputs": []
    },
    {
      "cell_type": "markdown",
      "source": [
        "SOLUTION 2: This question actually has an easy logic. Lets the fibonacci series:1 1 2 3 5 8 13 21 34 55 89 144\n",
        "\n",
        "Now separate the even numbers :- 2 8 34 144\n",
        "\n",
        "          8 = 2*4 + 0\n",
        "\n",
        "         34 = 8*4 + 2\n",
        "\n",
        "        144 = 34*4 + 8\n",
        "\n",
        "        610 = 144*4 + 34\n",
        "GENERAL FORM\n",
        "\n",
        "beginning = 2\n",
        "\n",
        "previous = 0\n",
        "\n",
        "IN LOOP:\n",
        "\n",
        "(next_even) = beginning * 4 + previous\n",
        "\n",
        "//calcuate sum\n",
        "\n",
        "previous = beginning\n",
        "\n",
        "beginning = next_even"
      ],
      "metadata": {
        "id": "ZDDMhq6PXK34"
      }
    },
    {
      "cell_type": "code",
      "source": [
        "n = int(input().strip())\n",
        "start = 2\n",
        "previous = 0\n",
        "total = 2\n",
        "while start < n:\n",
        "  newFib = start*4 + previous\n",
        "  total += newFib\n",
        "  if total > n:\n",
        "    total -= newFib\n",
        "    break\n",
        "  elif total == n:\n",
        "    break\n",
        "  else:\n",
        "    pass\n",
        "  previous = start\n",
        "  start = newFib\n",
        "print(total)"
      ],
      "metadata": {
        "id": "ayZI2NZOUqJd"
      },
      "execution_count": null,
      "outputs": []
    },
    {
      "cell_type": "markdown",
      "source": [
        "SOLUTION 3:\n",
        "This is a trick I learned when in a contest, since there was a problem that had to be solved this way due to time restrictions.\n",
        "\n",
        "Since the problem is so fixed (only Fibonacci numbers) and bounded (n < 4e16), you can precompute all even Fibonacci numbers and just put them in code, resulting in a very efficient solution.\n",
        "\n",
        "An even more efficient answer would be to precompute every sum up to a certain even Fibo number, avoiding the sum of large numbers. Finally, a last improvemnt would be finding which if the previous precomputed sums is the correct one. That can be done with a certain formula that involves the golden ratio. This makes this problem solvable in constant time."
      ],
      "metadata": {
        "id": "yLMIZEKfVTlR"
      }
    },
    {
      "cell_type": "code",
      "source": [
        "lista = [2, 8, 34, 144, 610, 2584, 10946, 46368, 196418, 832040, 3524578, 14930352, 63245986, 267914296, 1134903170, 4807526976, 20365011074, 86267571272, 365435296162, 1548008755920, 6557470319842, 27777890035288, 117669030460994, 498454011879264, 2111485077978050, 8944394323791464, 37889062373143906]\n",
        "\n",
        "t = int(input().strip())\n",
        "for a0 in range(t):\n",
        "    n = int(input().strip())\n",
        "    suma = sum([x for x in lista if x <= n])\n",
        "    print(suma)"
      ],
      "metadata": {
        "id": "upC3dLsoVxlq"
      },
      "execution_count": null,
      "outputs": []
    },
    {
      "cell_type": "markdown",
      "source": [
        "Just wanted to share some more information which I found intersting.\n",
        "\n",
        "1) Sum of the first N Fibonacci numbers always equals to F(N+2)-1\n",
        "\n",
        "2) Every 3d Fibonaccy number is even and this even Fib is a sum of two preceeding odd Fibs.\n",
        "\n",
        "3) So sum of the sequence of all even Fibonacci numbers less than even Fibonacci number with index E equals to the sum of all Fibonacci numbers up to E, divided by 2, so it is (F(E+2)-1)/2\n",
        "\n",
        "In this task if you want to employ Binet's formula, make sure you use phi and sqrt(5) constants with at least 40-42 decimal digits (google for their values), that means you can not use double precision, you need 128 bits."
      ],
      "metadata": {
        "id": "jNvePU6DV6aQ"
      }
    }
  ]
}