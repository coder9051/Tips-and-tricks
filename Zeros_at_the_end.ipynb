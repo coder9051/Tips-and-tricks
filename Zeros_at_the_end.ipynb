{
  "nbformat": 4,
  "nbformat_minor": 0,
  "metadata": {
    "colab": {
      "name": "Zeros_at the end.ipynb",
      "provenance": [],
      "authorship_tag": "ABX9TyO53k4yF0mvsbH/r3/x6ivV",
      "include_colab_link": true
    },
    "kernelspec": {
      "name": "python3",
      "display_name": "Python 3"
    },
    "language_info": {
      "name": "python"
    }
  },
  "cells": [
    {
      "cell_type": "markdown",
      "metadata": {
        "id": "view-in-github",
        "colab_type": "text"
      },
      "source": [
        "<a href=\"https://colab.research.google.com/github/coder9051/Tips-and-tricks/blob/main/Zeros_at_the_end.ipynb\" target=\"_parent\"><img src=\"https://colab.research.google.com/assets/colab-badge.svg\" alt=\"Open In Colab\"/></a>"
      ]
    },
    {
      "cell_type": "markdown",
      "source": [
        "                    **Move all zeros present in an array to the end**\n",
        "\n",
        "Q. Given an integer array, move all zeros present on it to the end. The solution should maintain the relative order of items in the \n",
        "array and should not use constant space.\n",
        "\n",
        "There can be many ways to solve this problem. Following is a simple and interesting way to solve this problem. \n",
        "\n",
        "\n",
        "SOLUTION 1:\n",
        "Traverse the given array ‘arr’ from left to right. While traversing, maintain count of non-zero elements in array. Let the count be ‘count’. For every non-zero element arr[i], put the element at ‘arr[count]’ and increment ‘count’. After complete traversal, all non-zero elements have already been shifted to front end and ‘count’ is set as index of first 0. Now all we need to do is that run a loop which makes all elements zero from ‘count’ till end of the array.\n",
        "Below is the implementation of the above approach. \n",
        "\n",
        "The time complexity of the this solution is O(n), where n is the size of the input. \n",
        "Auxillary space is O(1)\n"
      ],
      "metadata": {
        "id": "SMF11tH4BDn8"
      }
    },
    {
      "cell_type": "code",
      "source": [
        "def shiftAllZerosToEnd(arr):\n",
        "\n",
        "# 'count' stores the number of non-zero element which is used to arrange non-zero elemen to the front\n",
        "  count = 0\n",
        "\n",
        "  for i in range(len(arr)):\n",
        "    if arr[i] != 0:\n",
        "      arr[count] = arr[i]\n",
        "      count += 1\n",
        "\n",
        "# All non-zero elements have been shifted to front and 'count' is set as index of first 0 and all elements from count to end is set to 0.\n",
        "  while count < len(arr):\n",
        "    arr[count] = 0\n",
        "    count += 1\n",
        "\n",
        "arr = [1, 9, 8, 4, 0, 0, 2, 7, 0, 6, 0, 9]\n",
        "shiftAllZerosToEnd(arr)\n",
        "print(arr)"
      ],
      "metadata": {
        "id": "Q86GBQgKCZFx"
      },
      "execution_count": null,
      "outputs": []
    },
    {
      "cell_type": "markdown",
      "source": [
        "SOLUTION 2: Coders trick\n",
        "\n",
        "First we count number of zeros then we iterate through array and remove all the zeros and append zeros at the end of array for every zeros removed.\n",
        "\n",
        "Time complexity of this solution is greater then O(n) but no extra space is required.\n",
        "\n"
      ],
      "metadata": {
        "id": "86MCo74nCtOX"
      }
    },
    {
      "cell_type": "code",
      "source": [
        "arr = [1, 9, 8, 4, 0, 0, 2, 7, 0, 6, 0, 9]\n",
        "zeroCount = arr.count(0)\n",
        "for i in range(zeroCount):\n",
        "  arr.remove(0)\n",
        "  arr.append(0)\n",
        "print(arr)"
      ],
      "metadata": {
        "id": "L_Oj0ZKpG7Py"
      },
      "execution_count": null,
      "outputs": []
    },
    {
      "cell_type": "markdown",
      "source": [
        "SOLUTION 3: Mathematical Coder!\n",
        "Sort the array by setting key to bool and reverse is true. In python the value of true is 1 and false is 0. When there is any number except 0 it returns true and false for zero.\n",
        "Time complexity of this solution is greater then O(nlogn) but no extra space is required."
      ],
      "metadata": {
        "id": "VdxUEnvBHBg9"
      }
    },
    {
      "cell_type": "code",
      "source": [
        "arr = [1, 9, 8, 4, 0, 0, 2, 7, 0, 6, 0, 9]\n",
        "arr.sort(key = bool, reverse = True)\n",
        "print(arr)"
      ],
      "metadata": {
        "id": "TF7VYExLKacZ"
      },
      "execution_count": null,
      "outputs": []
    }
  ]
}